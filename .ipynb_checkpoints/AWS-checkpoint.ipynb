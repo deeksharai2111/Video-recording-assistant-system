{
 "cells": [
  {
   "cell_type": "code",
   "execution_count": 2,
   "metadata": {},
   "outputs": [
    {
     "name": "stdout",
     "output_type": "stream",
     "text": [
      "Requirement already satisfied: awscli in c:\\programdata\\anaconda3\\lib\\site-packages (1.24.10)\n",
      "Requirement already satisfied: rsa<4.8,>=3.1.2 in c:\\programdata\\anaconda3\\lib\\site-packages (from awscli) (4.7.2)\n",
      "Requirement already satisfied: s3transfer<0.6.0,>=0.5.0 in c:\\programdata\\anaconda3\\lib\\site-packages (from awscli) (0.5.2)\n",
      "Requirement already satisfied: botocore==1.26.10 in c:\\programdata\\anaconda3\\lib\\site-packages (from awscli) (1.26.10)\n",
      "Requirement already satisfied: colorama<0.4.5,>=0.2.5 in c:\\programdata\\anaconda3\\lib\\site-packages (from awscli) (0.4.3)\n",
      "Requirement already satisfied: docutils<0.17,>=0.10 in c:\\programdata\\anaconda3\\lib\\site-packages (from awscli) (0.16)\n",
      "Requirement already satisfied: PyYAML<5.5,>=3.10 in c:\\programdata\\anaconda3\\lib\\site-packages (from awscli) (5.3.1)\n",
      "Requirement already satisfied: pyasn1>=0.1.3 in c:\\programdata\\anaconda3\\lib\\site-packages (from rsa<4.8,>=3.1.2->awscli) (0.4.8)\n",
      "Requirement already satisfied: jmespath<2.0.0,>=0.7.1 in c:\\programdata\\anaconda3\\lib\\site-packages (from botocore==1.26.10->awscli) (0.10.0)\n",
      "Requirement already satisfied: python-dateutil<3.0.0,>=2.1 in c:\\programdata\\anaconda3\\lib\\site-packages (from botocore==1.26.10->awscli) (2.8.1)\n",
      "Requirement already satisfied: urllib3<1.27,>=1.25.4 in c:\\programdata\\anaconda3\\lib\\site-packages (from botocore==1.26.10->awscli) (1.25.9)\n",
      "Requirement already satisfied: six>=1.5 in c:\\programdata\\anaconda3\\lib\\site-packages (from python-dateutil<3.0.0,>=2.1->botocore==1.26.10->awscli) (1.15.0)\n",
      "Note: you may need to restart the kernel to use updated packages.\n"
     ]
    }
   ],
   "source": [
    "pip install awscli\n"
   ]
  },
  {
   "cell_type": "code",
   "execution_count": null,
   "metadata": {},
   "outputs": [],
   "source": []
  }
 ],
 "metadata": {
  "kernelspec": {
   "display_name": "Python 3",
   "language": "python",
   "name": "python3"
  },
  "language_info": {
   "codemirror_mode": {
    "name": "ipython",
    "version": 3
   },
   "file_extension": ".py",
   "mimetype": "text/x-python",
   "name": "python",
   "nbconvert_exporter": "python",
   "pygments_lexer": "ipython3",
   "version": "3.6.10"
  }
 },
 "nbformat": 4,
 "nbformat_minor": 4
}
