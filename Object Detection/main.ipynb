{
 "cells": [
  {
   "cell_type": "code",
   "execution_count": 1,
   "metadata": {},
   "outputs": [],
   "source": []
  },
  {
   "cell_type": "code",
   "execution_count": 1,
   "metadata": {},
   "outputs": [
    {
     "ename": "KeyboardInterrupt",
     "evalue": "",
     "output_type": "error",
     "traceback": [
      "\u001b[1;31m---------------------------------------------------------------------------\u001b[0m",
      "\u001b[1;31mKeyboardInterrupt\u001b[0m                         Traceback (most recent call last)",
      "Cell \u001b[1;32mIn[1], line 32\u001b[0m\n\u001b[0;32m     28\u001b[0m ret, frame \u001b[38;5;241m=\u001b[39m cap\u001b[38;5;241m.\u001b[39mread()\n\u001b[0;32m     30\u001b[0m \u001b[38;5;66;03m#object detection\u001b[39;00m\n\u001b[1;32m---> 32\u001b[0m (class_ids, scores, bboxes  ) \u001b[38;5;241m=\u001b[39m \u001b[43mmodel\u001b[49m\u001b[38;5;241;43m.\u001b[39;49m\u001b[43mdetect\u001b[49m\u001b[43m(\u001b[49m\u001b[43mframe\u001b[49m\u001b[43m)\u001b[49m\n\u001b[0;32m     33\u001b[0m \u001b[38;5;28;01mfor\u001b[39;00m class_id, score, bbox \u001b[38;5;129;01min\u001b[39;00m \u001b[38;5;28mzip\u001b[39m(class_ids, scores,bboxes):\n\u001b[0;32m     34\u001b[0m     (x , y, w, h) \u001b[38;5;241m=\u001b[39m bbox\n",
      "\u001b[1;31mKeyboardInterrupt\u001b[0m: "
     ]
    }
   ],
   "source": [
    "import cv2\n",
    "import numpy as np\n",
    "\n",
    "#opencv DNN\n",
    "net = cv2.dnn.readNet(r\"C:\\Users\\USER\\Downloads\\PCL\\Object Detection\\dnn_model\\yolov4-tiny.weights\", r\"C:\\Users\\USER\\Downloads\\PCL\\Object Detection\\dnn_model\\yolov4-tiny.cfg\")\n",
    "model = cv2.dnn_DetectionModel(net)\n",
    "model.setInputParams(size=(320,320), scale=1/255)\n",
    "\n",
    "#load class lists\n",
    "classes = []\n",
    "with open(r\"C:\\Users\\USER\\Downloads\\PCL\\Object Detection\\dnn_model\\classes.txt\") as file_object:\n",
    "    for class_name in file_object.readlines():\n",
    "        class_name = class_name.strip()\n",
    "        classes.append(class_name)\n",
    "        \n",
    "# print(\"object list\")\n",
    "# print(classes)\n",
    "\n",
    "#initialize camera\n",
    "cap = cv2.VideoCapture(0)\n",
    "# cap.set(cv2.CAP_PROP_FRAME_WIDTH, 1280)\n",
    "# cap.set(cv2.CAP_PROP_FRAME_HEIGHT, 720)\n",
    "\n",
    "\n",
    "\n",
    "while True:\n",
    "    #Get frames\n",
    "    ret, frame = cap.read()\n",
    "    \n",
    "    #object detection\n",
    "    \n",
    "    (class_ids, scores, bboxes  ) = model.detect(frame)\n",
    "    for class_id, score, bbox in zip(class_ids, scores,bboxes):\n",
    "        (x , y, w, h) = bbox\n",
    "        class_name = classes[class_id]\n",
    "        \n",
    "        #print(x, y, w, h)\n",
    "#         if class_name == \"person\" and button_person is True:\n",
    "        cv2.putText(frame, class_name,(x , y - 10 ), cv2.FONT_HERSHEY_PLAIN, 2, (200,0,50), 2)\n",
    "        cv2.rectangle(frame, (x,y),(x + w, y + h ),(200,0,50),3)\n",
    "\n",
    "    \n",
    "        \n",
    "    cv2.imshow(\"Frame\", frame)\n",
    "    cv2.waitKey(3)\n"
   ]
  },
  {
   "cell_type": "code",
   "execution_count": null,
   "metadata": {},
   "outputs": [],
   "source": []
  },
  {
   "cell_type": "code",
   "execution_count": null,
   "metadata": {},
   "outputs": [],
   "source": []
  },
  {
   "cell_type": "code",
   "execution_count": null,
   "metadata": {},
   "outputs": [],
   "source": []
  },
  {
   "cell_type": "code",
   "execution_count": null,
   "metadata": {},
   "outputs": [],
   "source": []
  }
 ],
 "metadata": {
  "kernelspec": {
   "display_name": "Python 3 (ipykernel)",
   "language": "python",
   "name": "python3"
  },
  "language_info": {
   "codemirror_mode": {
    "name": "ipython",
    "version": 3
   },
   "file_extension": ".py",
   "mimetype": "text/x-python",
   "name": "python",
   "nbconvert_exporter": "python",
   "pygments_lexer": "ipython3",
   "version": "3.8.18"
  }
 },
 "nbformat": 4,
 "nbformat_minor": 4
}
