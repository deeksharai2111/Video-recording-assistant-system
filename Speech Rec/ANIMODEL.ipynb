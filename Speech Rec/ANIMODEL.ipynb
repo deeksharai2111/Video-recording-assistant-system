{
 "cells": [
  {
   "cell_type": "code",
   "execution_count": 1,
   "metadata": {},
   "outputs": [
    {
     "name": "stderr",
     "output_type": "stream",
     "text": [
      "C:\\Users\\USER\\AppData\\Roaming\\Python\\Python36\\site-packages\\tensorflow\\python\\framework\\dtypes.py:523: FutureWarning: Passing (type, 1) or '1type' as a synonym of type is deprecated; in a future version of numpy, it will be understood as (type, (1,)) / '(1,)type'.\n",
      "  _np_qint8 = np.dtype([(\"qint8\", np.int8, 1)])\n",
      "C:\\Users\\USER\\AppData\\Roaming\\Python\\Python36\\site-packages\\tensorflow\\python\\framework\\dtypes.py:524: FutureWarning: Passing (type, 1) or '1type' as a synonym of type is deprecated; in a future version of numpy, it will be understood as (type, (1,)) / '(1,)type'.\n",
      "  _np_quint8 = np.dtype([(\"quint8\", np.uint8, 1)])\n",
      "C:\\Users\\USER\\AppData\\Roaming\\Python\\Python36\\site-packages\\tensorflow\\python\\framework\\dtypes.py:525: FutureWarning: Passing (type, 1) or '1type' as a synonym of type is deprecated; in a future version of numpy, it will be understood as (type, (1,)) / '(1,)type'.\n",
      "  _np_qint16 = np.dtype([(\"qint16\", np.int16, 1)])\n",
      "C:\\Users\\USER\\AppData\\Roaming\\Python\\Python36\\site-packages\\tensorflow\\python\\framework\\dtypes.py:526: FutureWarning: Passing (type, 1) or '1type' as a synonym of type is deprecated; in a future version of numpy, it will be understood as (type, (1,)) / '(1,)type'.\n",
      "  _np_quint16 = np.dtype([(\"quint16\", np.uint16, 1)])\n",
      "C:\\Users\\USER\\AppData\\Roaming\\Python\\Python36\\site-packages\\tensorflow\\python\\framework\\dtypes.py:527: FutureWarning: Passing (type, 1) or '1type' as a synonym of type is deprecated; in a future version of numpy, it will be understood as (type, (1,)) / '(1,)type'.\n",
      "  _np_qint32 = np.dtype([(\"qint32\", np.int32, 1)])\n",
      "C:\\Users\\USER\\AppData\\Roaming\\Python\\Python36\\site-packages\\tensorflow\\python\\framework\\dtypes.py:532: FutureWarning: Passing (type, 1) or '1type' as a synonym of type is deprecated; in a future version of numpy, it will be understood as (type, (1,)) / '(1,)type'.\n",
      "  np_resource = np.dtype([(\"resource\", np.ubyte, 1)])\n"
     ]
    },
    {
     "ename": "AttributeError",
     "evalue": "module 'tensorflow' has no attribute 'lite'",
     "output_type": "error",
     "traceback": [
      "\u001b[1;31m---------------------------------------------------------------------------\u001b[0m",
      "\u001b[1;31mAttributeError\u001b[0m                            Traceback (most recent call last)",
      "\u001b[1;32m<ipython-input-1-05ca85f63567>\u001b[0m in \u001b[0;36m<module>\u001b[1;34m\u001b[0m\n\u001b[0;32m      6\u001b[0m \u001b[1;31m# Download the model to yamnet-classification.tflite\u001b[0m\u001b[1;33m\u001b[0m\u001b[1;33m\u001b[0m\u001b[1;33m\u001b[0m\u001b[0m\n\u001b[0;32m      7\u001b[0m \u001b[1;33m\u001b[0m\u001b[0m\n\u001b[1;32m----> 8\u001b[1;33m \u001b[0minterpreter\u001b[0m \u001b[1;33m=\u001b[0m \u001b[0mtf\u001b[0m\u001b[1;33m.\u001b[0m\u001b[0mlite\u001b[0m\u001b[1;33m.\u001b[0m\u001b[0mInterpreter\u001b[0m\u001b[1;33m(\u001b[0m\u001b[1;34mr\"C:\\Users\\USER\\Downloads\\Speech Rec\\lite-model_yamnet_classification_tflite_1.tflite\"\u001b[0m\u001b[1;33m)\u001b[0m\u001b[1;33m\u001b[0m\u001b[1;33m\u001b[0m\u001b[0m\n\u001b[0m\u001b[0;32m      9\u001b[0m \u001b[1;33m\u001b[0m\u001b[0m\n\u001b[0;32m     10\u001b[0m \u001b[1;33m\u001b[0m\u001b[0m\n",
      "\u001b[1;31mAttributeError\u001b[0m: module 'tensorflow' has no attribute 'lite'"
     ]
    }
   ],
   "source": [
    "import tensorflow as tf\n",
    "import numpy as np\n",
    "import zipfile\n",
    "import librosa\n",
    "\n",
    "# Download the model to yamnet-classification.tflite\n",
    "\n",
    "interpreter = tf.lite.Interpreter(r\"C:\\Users\\USER\\Downloads\\Speech Rec\\lite-model_yamnet_classification_tflite_1.tflite\")\n",
    "\n",
    "\n",
    "input_details = interpreter.get_input_details()\n",
    "waveform_input_index = input_details[0]['index']\n",
    "output_details = interpreter.get_output_details()\n",
    "scores_output_index = output_details[0]['index']\n",
    "\n",
    "# # Input: 0.975 seconds of silence as mono 16 kHz waveform samples.\n",
    "# waveform = np.zeros(int(round(0.975 * 16000)), dtype=np.float32)\n",
    "# print(waveform.shape)  # Should print (15600,)\n",
    "\n",
    "# Load audio file\n",
    "audio_path = r'C:\\Users\\USER\\Downloads\\Compressed\\AudioRecognition_py-main\\DataTest\\lion1.wav'\n",
    "y, sr = librosa.load(audio_path, sr=16000, mono=True)\n",
    "# Resample audio to 16kHz\n",
    "y_resampled = librosa.resample(y, sr, 16000)\n",
    "# Normalize audio waveform\n",
    "y_norm = librosa.util.normalize(y_resampled)\n",
    "print(y_norm.shape)\n",
    "\n",
    "\n",
    "\n",
    "interpreter.resize_tensor_input(waveform_input_index, [y_norm.size], strict=False)\n",
    "interpreter.allocate_tensors()\n",
    "interpreter.set_tensor(waveform_input_index, y_norm)\n",
    "interpreter.invoke()\n",
    "scores = interpreter.get_tensor(scores_output_index)\n",
    "print(scores.shape)  # Should print (1, 521)\n",
    "\n",
    "top_class_index = scores.argmax()\n",
    "labels_file = open(r'C:\\Users\\USER\\Downloads\\Speech Rec\\labels.txt').readlines()\n",
    "# labels = [l.decode('utf-8').strip() for l in labels_file.readlines()]\n",
    "print(len(labels_file))  # Should print 521\n",
    "print(labels_file[top_class_index])  # Should print 'Silence'."
   ]
  },
  {
   "cell_type": "code",
   "execution_count": null,
   "metadata": {},
   "outputs": [],
   "source": []
  }
 ],
 "metadata": {
  "kernelspec": {
   "display_name": "Python 3",
   "language": "python",
   "name": "python3"
  },
  "language_info": {
   "codemirror_mode": {
    "name": "ipython",
    "version": 3
   },
   "file_extension": ".py",
   "mimetype": "text/x-python",
   "name": "python",
   "nbconvert_exporter": "python",
   "pygments_lexer": "ipython3",
   "version": "3.6.10"
  }
 },
 "nbformat": 4,
 "nbformat_minor": 4
}
