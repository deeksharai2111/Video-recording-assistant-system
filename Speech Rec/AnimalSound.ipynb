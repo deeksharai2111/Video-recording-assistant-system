{
 "cells": [
  {
   "cell_type": "code",
   "execution_count": 1,
   "metadata": {},
   "outputs": [
    {
     "ename": "ModuleNotFoundError",
     "evalue": "No module named 'tensorflow'",
     "output_type": "error",
     "traceback": [
      "\u001b[1;31m---------------------------------------------------------------------------\u001b[0m",
      "\u001b[1;31mModuleNotFoundError\u001b[0m                       Traceback (most recent call last)",
      "\u001b[1;32m~\\AppData\\Local\\Temp\\ipykernel_11844\\4211043215.py\u001b[0m in \u001b[0;36m<module>\u001b[1;34m\u001b[0m\n\u001b[1;32m----> 1\u001b[1;33m \u001b[1;32mimport\u001b[0m \u001b[0mtensorflow\u001b[0m \u001b[1;32mas\u001b[0m \u001b[0mtf\u001b[0m\u001b[1;33m\u001b[0m\u001b[1;33m\u001b[0m\u001b[0m\n\u001b[0m\u001b[0;32m      2\u001b[0m \u001b[1;32mimport\u001b[0m \u001b[0mnumpy\u001b[0m \u001b[1;32mas\u001b[0m \u001b[0mnp\u001b[0m\u001b[1;33m\u001b[0m\u001b[1;33m\u001b[0m\u001b[0m\n\u001b[0;32m      3\u001b[0m \u001b[1;32mimport\u001b[0m \u001b[0mzipfile\u001b[0m\u001b[1;33m\u001b[0m\u001b[1;33m\u001b[0m\u001b[0m\n\u001b[0;32m      4\u001b[0m \u001b[1;32mimport\u001b[0m \u001b[0mlibrosa\u001b[0m\u001b[1;33m\u001b[0m\u001b[1;33m\u001b[0m\u001b[0m\n\u001b[0;32m      5\u001b[0m \u001b[1;32mimport\u001b[0m \u001b[0msounddevice\u001b[0m \u001b[1;32mas\u001b[0m \u001b[0msd\u001b[0m\u001b[1;33m\u001b[0m\u001b[1;33m\u001b[0m\u001b[0m\n",
      "\u001b[1;31mModuleNotFoundError\u001b[0m: No module named 'tensorflow'"
     ]
    }
   ],
   "source": [
    "import tensorflow as tf\n",
    "import numpy as np\n",
    "import zipfile\n",
    "import librosa\n",
    "import sounddevice as sd\n",
    "\n",
    "# Download the model to yamnet-classification.tflite\n",
    "interpreter = tf.lite.Interpreter(\"/content/lite-model_yamnet_classification_tflite_1.tflite\")\n",
    "\n",
    "input_details = interpreter.get_input_details()\n",
    "waveform_input_index = input_details[0]['index']\n",
    "output_details = interpreter.get_output_details()\n",
    "scores_output_index = output_details[0]['index']\n",
    "\n",
    "# Load the label names\n",
    "labels_file = open('/content/labels.txt').readlines()\n",
    "labels = [l.strip() for l in labels_file]\n",
    "\n",
    "# Define a function to process audio in real-time\n",
    "def process_audio(samples, sample_rate):\n",
    "    # Resample audio to 16kHz\n",
    "    y_resampled = librosa.resample(samples, orig_sr=sample_rate, target_sr=16000)\n",
    "    # Normalize audio waveform\n",
    "    y_norm = librosa.util.normalize(y_resampled)\n",
    "    \n",
    "    interpreter.resize_tensor_input(waveform_input_index, [y_norm.size], strict=False)\n",
    "    interpreter.allocate_tensors()\n",
    "    interpreter.set_tensor(waveform_input_index, y_norm)\n",
    "    interpreter.invoke()\n",
    "    scores = interpreter.get_tensor(scores_output_index)\n",
    "\n",
    "    # Get the top predicted class\n",
    "    top_class_index = scores.argmax()\n",
    "\n",
    "    # Print the predicted class label\n",
    "    print(labels[top_class_index])\n",
    "\n",
    "# Define the audio callback function\n",
    "def audio_callback(indata, frames, time, status):\n",
    "    if status:\n",
    "        print(status, file=sys.stderr)\n",
    "    process_audio(indata[:, 0], sd.default.samplerate)\n",
    "\n",
    "# Start the audio stream\n",
    "with sd.InputStream(callback=audio_callback):\n",
    "    print(\"Yamnet is listening...\")\n",
    "    sd.sleep(100000)\n"
   ]
  },
  {
   "cell_type": "code",
   "execution_count": null,
   "metadata": {},
   "outputs": [],
   "source": []
  },
  {
   "cell_type": "code",
   "execution_count": null,
   "metadata": {},
   "outputs": [],
   "source": []
  }
 ],
 "metadata": {
  "kernelspec": {
   "display_name": "Python 3 (ipykernel)",
   "language": "python",
   "name": "python3"
  },
  "language_info": {
   "codemirror_mode": {
    "name": "ipython",
    "version": 3
   },
   "file_extension": ".py",
   "mimetype": "text/x-python",
   "name": "python",
   "nbconvert_exporter": "python",
   "pygments_lexer": "ipython3",
   "version": "3.7.16"
  }
 },
 "nbformat": 4,
 "nbformat_minor": 4
}
