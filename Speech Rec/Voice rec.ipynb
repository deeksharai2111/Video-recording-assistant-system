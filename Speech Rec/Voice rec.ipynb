{
 "cells": [
  {
   "cell_type": "code",
   "execution_count": 1,
   "metadata": {},
   "outputs": [
    {
     "name": "stdout",
     "output_type": "stream",
     "text": [
      "Say something!\n",
      "result2:\n",
      "{   'alternative': [   {   'confidence': 0.76110733,\n",
      "                           'transcript': 'thoughts recording'},\n",
      "                       {'transcript': 'thought recording'},\n",
      "                       {'transcript': 'thought according'},\n",
      "                       {'transcript': 'recording'}],\n",
      "    'final': True}\n",
      "Sorry, I didn't understand that.\n",
      "Say something!\n",
      "result2:\n",
      "{   'alternative': [   {   'confidence': 0.88687539,\n",
      "                           'transcript': 'start recording'},\n",
      "                       {'transcript': 'recording'}],\n",
      "    'final': True}\n",
      "Recording started!\n"
     ]
    },
    {
     "ename": "KeyboardInterrupt",
     "evalue": "",
     "output_type": "error",
     "traceback": [
      "\u001b[1;31m---------------------------------------------------------------------------\u001b[0m",
      "\u001b[1;31mKeyboardInterrupt\u001b[0m                         Traceback (most recent call last)",
      "\u001b[1;32m<ipython-input-1-1f64b514c89a>\u001b[0m in \u001b[0;36m<module>\u001b[1;34m\u001b[0m\n\u001b[0;32m     57\u001b[0m         \u001b[1;31m# check if the phrase is \"start recording\"\u001b[0m\u001b[1;33m\u001b[0m\u001b[1;33m\u001b[0m\u001b[1;33m\u001b[0m\u001b[0m\n\u001b[0;32m     58\u001b[0m         \u001b[1;32mif\u001b[0m \u001b[0mphrase\u001b[0m \u001b[1;33m==\u001b[0m \u001b[1;34m\"start recording\"\u001b[0m\u001b[1;33m:\u001b[0m\u001b[1;33m\u001b[0m\u001b[1;33m\u001b[0m\u001b[0m\n\u001b[1;32m---> 59\u001b[1;33m             \u001b[0mstart_recording\u001b[0m\u001b[1;33m(\u001b[0m\u001b[1;33m)\u001b[0m\u001b[1;33m\u001b[0m\u001b[1;33m\u001b[0m\u001b[0m\n\u001b[0m\u001b[0;32m     60\u001b[0m             \u001b[1;32mbreak\u001b[0m\u001b[1;33m\u001b[0m\u001b[1;33m\u001b[0m\u001b[0m\n\u001b[0;32m     61\u001b[0m \u001b[1;33m\u001b[0m\u001b[0m\n",
      "\u001b[1;32m<ipython-input-1-1f64b514c89a>\u001b[0m in \u001b[0;36mstart_recording\u001b[1;34m()\u001b[0m\n\u001b[0;32m     24\u001b[0m             \u001b[0mcv2\u001b[0m\u001b[1;33m.\u001b[0m\u001b[0mimshow\u001b[0m\u001b[1;33m(\u001b[0m\u001b[1;34m'frame'\u001b[0m\u001b[1;33m,\u001b[0m\u001b[0mframe\u001b[0m\u001b[1;33m)\u001b[0m\u001b[1;33m\u001b[0m\u001b[1;33m\u001b[0m\u001b[0m\n\u001b[0;32m     25\u001b[0m             \u001b[1;31m# press 'q' to stop recording\u001b[0m\u001b[1;33m\u001b[0m\u001b[1;33m\u001b[0m\u001b[1;33m\u001b[0m\u001b[0m\n\u001b[1;32m---> 26\u001b[1;33m             \u001b[1;32mif\u001b[0m \u001b[0mcv2\u001b[0m\u001b[1;33m.\u001b[0m\u001b[0mwaitKey\u001b[0m\u001b[1;33m(\u001b[0m\u001b[1;36m1\u001b[0m\u001b[1;33m)\u001b[0m \u001b[1;33m&\u001b[0m \u001b[1;36m0xFF\u001b[0m \u001b[1;33m==\u001b[0m \u001b[0mord\u001b[0m\u001b[1;33m(\u001b[0m\u001b[1;34m'q'\u001b[0m\u001b[1;33m)\u001b[0m\u001b[1;33m:\u001b[0m\u001b[1;33m\u001b[0m\u001b[1;33m\u001b[0m\u001b[0m\n\u001b[0m\u001b[0;32m     27\u001b[0m                 \u001b[1;32mbreak\u001b[0m\u001b[1;33m\u001b[0m\u001b[1;33m\u001b[0m\u001b[0m\n\u001b[0;32m     28\u001b[0m         \u001b[1;32melse\u001b[0m\u001b[1;33m:\u001b[0m\u001b[1;33m\u001b[0m\u001b[1;33m\u001b[0m\u001b[0m\n",
      "\u001b[1;31mKeyboardInterrupt\u001b[0m: "
     ]
    }
   ],
   "source": [
    "import speech_recognition as sr\n",
    "import cv2\n",
    "\n",
    "# create a recognizer object\n",
    "recognizer = sr.Recognizer()\n",
    "\n",
    "\n",
    "# function to start recording video\n",
    "def start_recording():\n",
    "    print(\"Recording started!\")\n",
    "    # start recording video\n",
    "    cap = cv2.VideoCapture(0)\n",
    "    # set video dimensions\n",
    "    cap.set(3, 640)\n",
    "    cap.set(4, 480)\n",
    "    # create a VideoWriter object to write video frames to a file\n",
    "    fourcc = cv2.VideoWriter_fourcc(*'XVID')\n",
    "    out = cv2.VideoWriter('output.avi', fourcc, 20.0, (640, 480))\n",
    "    # loop through video frames and write them to the file\n",
    "    while(cap.isOpened()):\n",
    "        ret, frame = cap.read()\n",
    "        if ret==True:\n",
    "            out.write(frame)\n",
    "            cv2.imshow('frame',frame)\n",
    "            # press 'q' to stop recording\n",
    "            if cv2.waitKey(1) & 0xFF == ord('q'):\n",
    "                break\n",
    "        else:\n",
    "            break\n",
    "    # release the capture and close the video window\n",
    "    cap.release()\n",
    "    out.release()\n",
    "    cv2.destroyAllWindows()\n",
    "\n",
    "    \n",
    "    if not isinstance(recognizer, sr.Recognizer):\n",
    "        raise TypeError(\"`recognizer` must be `Recognizer` instance\")\n",
    "\n",
    "    if not isinstance(microphone, sr.Microphone):\n",
    "        raise TypeError(\"`microphone` must be `Microphone` instance\")\n",
    "        \n",
    "   \n",
    "        \n",
    "        \n",
    "# use the default microphone as the audio source\n",
    "while True:\n",
    "    with sr.Microphone() as source:\n",
    "        print(\"Say something!\")\n",
    "        # listen for audio and store it in a variable\n",
    "        recognizer.adjust_for_ambient_noise(source, duration=0.2)\n",
    "        audio = recognizer.listen(source)\n",
    "\n",
    "    try:\n",
    "        # recognize speech using Google Speech Recognition\n",
    "        phrase = recognizer.recognize_google(audio, language='en-US')\n",
    "\n",
    "        # check if the phrase is \"start recording\"\n",
    "        if phrase == \"start recording\":\n",
    "            start_recording()\n",
    "            break\n",
    "\n",
    "        # check if the phrase is \"stop recording\"\n",
    "        elif phrase == \"stop recording\":\n",
    "            print(\"Recording stopped!\")\n",
    "            break\n",
    "\n",
    "        # if the phrase is something else\n",
    "        else:\n",
    "            print(\"Sorry, I didn't understand that.\")\n",
    "\n",
    "    except sr.UnknownValueError:\n",
    "        print(\"Sorry, I could not understand audio.\")\n",
    "    except sr.RequestError as e:\n",
    "        print(\"Sorry, my speech service is currently unavailable.\", e)\n"
   ]
  },
  {
   "cell_type": "code",
   "execution_count": null,
   "metadata": {},
   "outputs": [],
   "source": []
  },
  {
   "cell_type": "code",
   "execution_count": null,
   "metadata": {},
   "outputs": [],
   "source": []
  }
 ],
 "metadata": {
  "kernelspec": {
   "display_name": "Python 3",
   "language": "python",
   "name": "python3"
  },
  "language_info": {
   "codemirror_mode": {
    "name": "ipython",
    "version": 3
   },
   "file_extension": ".py",
   "mimetype": "text/x-python",
   "name": "python",
   "nbconvert_exporter": "python",
   "pygments_lexer": "ipython3",
   "version": "3.6.10"
  }
 },
 "nbformat": 4,
 "nbformat_minor": 4
}
